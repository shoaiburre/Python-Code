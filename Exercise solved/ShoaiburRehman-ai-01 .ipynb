{
 "cells": [
  {
   "cell_type": "markdown",
   "id": "7a6af36f",
   "metadata": {},
   "source": [
    "# Variables, expressions, and statements\n",
    "\n"
   ]
  },
  {
   "cell_type": "markdown",
   "id": "25250d9d",
   "metadata": {},
   "source": [
    "# Q.1"
   ]
  },
  {
   "cell_type": "code",
   "execution_count": null,
   "id": "ef7cb5c8",
   "metadata": {},
   "outputs": [],
   "source": [
    "#Program Enter the name and welcome the user\n",
    "\n",
    "name = input (\"Enter your name\")\n",
    "print ('Welcome',name)"
   ]
  },
  {
   "cell_type": "markdown",
   "id": "cfdc330e",
   "metadata": {},
   "source": [
    "# Q.2"
   ]
  },
  {
   "cell_type": "code",
   "execution_count": null,
   "id": "740d5eba",
   "metadata": {},
   "outputs": [],
   "source": [
    "# Q2: Program to calculate the gross pay \n",
    "\n",
    "hour = float (input (\"enter hours :\"))\n",
    "rate = float (input (\"enter rate :\"))\n",
    "pay = hour * rate \n",
    "print (\"pay = \"), pay\n"
   ]
  },
  {
   "cell_type": "markdown",
   "id": "4a691773",
   "metadata": {},
   "source": [
    "# Q.3"
   ]
  },
  {
   "cell_type": "code",
   "execution_count": null,
   "id": "42c71234",
   "metadata": {},
   "outputs": [],
   "source": [
    "# Q3: write the value of the expression and the type\n",
    "\n",
    "width = float (input(\"enter the width: \"))\n",
    "height = float (input(\"enter the height\"))\n",
    "\n",
    "print (\"Value is: \", width//2, \"type is: \", type(width // 2))\n",
    "print (\"value is: \", width/2.0, \"type is: \", type(width/2.0))\n",
    "print (\"value is: \", height/3 , \"type is: \", type(width/3))\n",
    "print (\"value is:\", 1 + 2 * 5 , \"type is: \", type(1 + 2 * 5))"
   ]
  },
  {
   "cell_type": "markdown",
   "id": "15492811",
   "metadata": {},
   "source": [
    "# Q.4"
   ]
  },
  {
   "cell_type": "code",
   "execution_count": null,
   "id": "d9aacf3a",
   "metadata": {},
   "outputs": [],
   "source": [
    "\n",
    "# write a program which prompts the user for a Celsius temperature, convert the temperature to Fahrenheit,\n",
    "#    and print out the converted temperature.\n",
    "\n",
    "celsius = float (input (\"Enter the celsius temperature :\"))\n",
    "fahrenheit = (celsius * 9.0/5.0) + 32.0\n",
    "print (\"Temperature in Fahrenheit = \", fahrenheit)\n"
   ]
  },
  {
   "cell_type": "markdown",
   "id": "2de036fd",
   "metadata": {},
   "source": [
    "# Q.5"
   ]
  },
  {
   "cell_type": "code",
   "execution_count": null,
   "id": "53b5a6d6",
   "metadata": {},
   "outputs": [],
   "source": [
    "#  Write a program to find if a given number is a perfect square or not.\n",
    "\n",
    "import math\n",
    "number = int (input(\"Enter the number\"))\n",
    "\n",
    "root = math.sqrt(number)\n",
    "print (\"root is : \", root)\n",
    "\n",
    "if int(root + 0.5) ** 2 == number:\n",
    "    print(number, \"is a perfect square\")\n",
    "else :\n",
    "    print(number, \"is not perfect square\")\n",
    "\n",
    "    \n",
    "    "
   ]
  },
  {
   "cell_type": "markdown",
   "id": "6884fcca",
   "metadata": {},
   "source": [
    "# Q.6"
   ]
  },
  {
   "cell_type": "code",
   "execution_count": null,
   "id": "adf96edb",
   "metadata": {},
   "outputs": [],
   "source": [
    "# Write Python statements to calculate and print the simple interest using\n",
    "# variables p, t and r for principal, rate of interest and time duration respectively.\n",
    "\n",
    "p = 50 \n",
    "r = 30\n",
    "t = 50\n",
    "S = (p * r * t)/100\n",
    "print (\"Simple Interest is = \", S)"
   ]
  },
  {
   "cell_type": "markdown",
   "id": "594cc0ec",
   "metadata": {},
   "source": [
    "# Q.7"
   ]
  },
  {
   "cell_type": "code",
   "execution_count": null,
   "id": "78d307b8",
   "metadata": {},
   "outputs": [],
   "source": [
    "# Write Python statements to create 2 complex objects and print their sum, difference and product."
   ]
  },
  {
   "cell_type": "code",
   "execution_count": null,
   "id": "2016cbef",
   "metadata": {},
   "outputs": [],
   "source": [
    "# SUM"
   ]
  },
  {
   "cell_type": "code",
   "execution_count": null,
   "id": "3ef502ef",
   "metadata": {},
   "outputs": [],
   "source": [
    "a = 5 + 3\n",
    "b = 6 + 7\n",
    "c = (a+b)\n",
    "print ( complex(c))\n"
   ]
  },
  {
   "cell_type": "code",
   "execution_count": null,
   "id": "ff8b5d47",
   "metadata": {},
   "outputs": [],
   "source": [
    "# DIFFERENCE"
   ]
  },
  {
   "cell_type": "code",
   "execution_count": null,
   "id": "f3b36a3d",
   "metadata": {},
   "outputs": [],
   "source": [
    "D = (a-b)\n",
    "print(complex(D))"
   ]
  },
  {
   "cell_type": "code",
   "execution_count": null,
   "id": "715a1ca2",
   "metadata": {},
   "outputs": [],
   "source": [
    "# PRODUCT"
   ]
  },
  {
   "cell_type": "code",
   "execution_count": null,
   "id": "7127e340",
   "metadata": {},
   "outputs": [],
   "source": [
    "P = (a*b)\n",
    "Product = complex(P)\n",
    "print(Product)"
   ]
  },
  {
   "cell_type": "markdown",
   "id": "45d1d732",
   "metadata": {},
   "source": [
    "# Q.8"
   ]
  },
  {
   "cell_type": "code",
   "execution_count": null,
   "id": "06a3035f",
   "metadata": {},
   "outputs": [],
   "source": [
    "# Write Python statements to accept a string from the user and print it in title case."
   ]
  },
  {
   "cell_type": "code",
   "execution_count": null,
   "id": "056bbbe9",
   "metadata": {},
   "outputs": [],
   "source": [
    "String = \"my name is shaoaib ur rehman\"\n",
    "S = String.title()\n",
    "print(S)"
   ]
  },
  {
   "cell_type": "markdown",
   "id": "18595d41",
   "metadata": {},
   "source": [
    "# Q.9"
   ]
  },
  {
   "cell_type": "code",
   "execution_count": null,
   "id": "a264fcb7",
   "metadata": {},
   "outputs": [],
   "source": [
    "s =(input(\"Enter something\"))\n",
    "print(s)\n",
    "type(s)\n",
    "s.upper()"
   ]
  },
  {
   "cell_type": "markdown",
   "id": "3b8f544d",
   "metadata": {},
   "source": [
    "# STRING"
   ]
  },
  {
   "cell_type": "markdown",
   "id": "4fd2a4e7",
   "metadata": {},
   "source": [
    "# Q.1"
   ]
  },
  {
   "cell_type": "code",
   "execution_count": null,
   "id": "51c4660d",
   "metadata": {},
   "outputs": [],
   "source": [
    "# 1- use find\n",
    "# 2- string slicing\n",
    "# 3- convert to float\n",
    "str_5.find(\":\")"
   ]
  },
  {
   "cell_type": "code",
   "execution_count": null,
   "id": "54e00662",
   "metadata": {},
   "outputs": [],
   "source": [
    "str_5 = \"X-DSPAM-confidence:08475\""
   ]
  },
  {
   "cell_type": "code",
   "execution_count": null,
   "id": "80018d5b",
   "metadata": {},
   "outputs": [],
   "source": [
    "sliced_string = str_5[19:]"
   ]
  },
  {
   "cell_type": "code",
   "execution_count": null,
   "id": "fb8154e0",
   "metadata": {},
   "outputs": [],
   "source": [
    "type(sliced_string)"
   ]
  },
  {
   "cell_type": "code",
   "execution_count": null,
   "id": "151d3363",
   "metadata": {},
   "outputs": [],
   "source": [
    "sliced_string=float(sliced_string)"
   ]
  },
  {
   "cell_type": "code",
   "execution_count": null,
   "id": "a0414198",
   "metadata": {},
   "outputs": [],
   "source": [
    "type(sliced_string)"
   ]
  },
  {
   "cell_type": "code",
   "execution_count": null,
   "id": "f6d0ae54",
   "metadata": {},
   "outputs": [],
   "source": [
    "sliced_string"
   ]
  },
  {
   "cell_type": "markdown",
   "id": "788c948f",
   "metadata": {},
   "source": [
    "# Q.2"
   ]
  },
  {
   "cell_type": "code",
   "execution_count": null,
   "id": "25c1a1f5",
   "metadata": {},
   "outputs": [],
   "source": [
    "#split the string\n",
    "#Print only first 10 letters\n",
    "# Make a new string from this, such that it has only these Words: “Welcome Science"
   ]
  },
  {
   "cell_type": "code",
   "execution_count": null,
   "id": "ec094431",
   "metadata": {},
   "outputs": [],
   "source": [
    "Y = (\"“Welcome to the Course on Data Science.\")\n",
    "A = Y.split(\" \")\n",
    "print(A)"
   ]
  },
  {
   "cell_type": "code",
   "execution_count": null,
   "id": "36f40ca0",
   "metadata": {},
   "outputs": [],
   "source": [
    "Y[:9]"
   ]
  },
  {
   "cell_type": "code",
   "execution_count": null,
   "id": "e3f0387c",
   "metadata": {},
   "outputs": [],
   "source": [
    "Y[:9] + Y[-8:]"
   ]
  },
  {
   "cell_type": "markdown",
   "id": "197754f2",
   "metadata": {},
   "source": [
    "# Q.3"
   ]
  },
  {
   "cell_type": "code",
   "execution_count": null,
   "id": "9c757863",
   "metadata": {},
   "outputs": [],
   "source": [
    "#number of occurrences of a given character in string"
   ]
  },
  {
   "cell_type": "code",
   "execution_count": null,
   "id": "c798271f",
   "metadata": {},
   "outputs": [],
   "source": [
    "str_4 = (\"asfns andf kjhsah fkna wf wiuqyeri kbmnxbz iu ahsldhf wqyieyr uiysadhfj uiweyhjkdfhsa wiufsdf  \")\n",
    "str_4.count(\"a\")"
   ]
  },
  {
   "cell_type": "code",
   "execution_count": null,
   "id": "a1c72ff7",
   "metadata": {},
   "outputs": [],
   "source": [
    "str_4.count(\"a\")"
   ]
  },
  {
   "cell_type": "markdown",
   "id": "e683bf3c",
   "metadata": {},
   "source": [
    "# Q.4"
   ]
  },
  {
   "cell_type": "code",
   "execution_count": null,
   "id": "55789038",
   "metadata": {},
   "outputs": [],
   "source": [
    "# Write a Python script to count the number of occurrences of each word in a\n",
    "# given string.\n"
   ]
  },
  {
   "cell_type": "code",
   "execution_count": null,
   "id": "9b8e0ac5",
   "metadata": {},
   "outputs": [],
   "source": [
    "A = (\"my name is shoaib ur rehman my name  shoaib shoaib rehman name is \")\n",
    "A.count(\"shoaib\")"
   ]
  },
  {
   "cell_type": "markdown",
   "id": "3ff66d59",
   "metadata": {},
   "source": [
    "# Q.5"
   ]
  },
  {
   "cell_type": "code",
   "execution_count": null,
   "id": "15ebdea0",
   "metadata": {},
   "outputs": [],
   "source": [
    "# Write a Python script to form a string out of the first 2 and last 2 characters\n",
    "# from the given string. For example, given the string “I am a student”, the\n",
    "# output expected is “I nt”."
   ]
  },
  {
   "cell_type": "code",
   "execution_count": null,
   "id": "40e6219d",
   "metadata": {},
   "outputs": [],
   "source": [
    "my_str = (\"I am a student\")"
   ]
  },
  {
   "cell_type": "code",
   "execution_count": null,
   "id": "8829f8da",
   "metadata": {},
   "outputs": [],
   "source": [
    "v = my_str[-2:]\n",
    "t = my_str[:1]\n",
    "print (t +' '+  v)"
   ]
  },
  {
   "cell_type": "code",
   "execution_count": null,
   "id": "741197c1",
   "metadata": {},
   "outputs": [],
   "source": [
    "v = my_str[:2] + my_str[-2:]\n",
    "print(v)"
   ]
  },
  {
   "cell_type": "markdown",
   "id": "26ddd91f",
   "metadata": {},
   "source": [
    "# LISTING"
   ]
  },
  {
   "cell_type": "markdown",
   "id": "5e58d267",
   "metadata": {},
   "source": [
    "# Q.1"
   ]
  },
  {
   "cell_type": "code",
   "execution_count": null,
   "id": "bed70d50",
   "metadata": {},
   "outputs": [],
   "source": [
    "#Make a modify it by removing the first and last elements. \n",
    "#Then make a list called middle that contains all except the first and last elements.\n",
    "\n",
    "a = [\"apple\",\"banana\",\"cherry\",\"ball\"]\n",
    "middlelist = print(a[1:-1])"
   ]
  },
  {
   "cell_type": "markdown",
   "id": "34ae8895",
   "metadata": {},
   "source": [
    "# Q2:\n"
   ]
  },
  {
   "cell_type": "code",
   "execution_count": null,
   "id": "f036b0ba",
   "metadata": {},
   "outputs": [],
   "source": [
    "# Create a list of some text and find the unique words in it."
   ]
  },
  {
   "cell_type": "code",
   "execution_count": null,
   "id": "560f42f3",
   "metadata": {},
   "outputs": [],
   "source": [
    "mylist = [\"apple\",\"cherry\",\"apple\",\"cherry\"]"
   ]
  },
  {
   "cell_type": "code",
   "execution_count": null,
   "id": "df4f8c6a",
   "metadata": {},
   "outputs": [],
   "source": [
    "print(set(mylist))"
   ]
  },
  {
   "cell_type": "code",
   "execution_count": null,
   "id": "723a2b28",
   "metadata": {},
   "outputs": [],
   "source": [
    "print(set(mylist))"
   ]
  },
  {
   "cell_type": "code",
   "execution_count": null,
   "id": "14ac3348",
   "metadata": {},
   "outputs": [],
   "source": [
    "myList = [1, 2, 3, 4, 5, 6]\n",
    "sum(myList)"
   ]
  },
  {
   "cell_type": "code",
   "execution_count": null,
   "id": "c9a8a4df",
   "metadata": {},
   "outputs": [],
   "source": [
    "type(myList)"
   ]
  },
  {
   "cell_type": "markdown",
   "id": "20190ccb",
   "metadata": {},
   "source": [
    "# Q.3"
   ]
  },
  {
   "cell_type": "code",
   "execution_count": null,
   "id": "9ce876d2",
   "metadata": {},
   "outputs": [],
   "source": [
    "#  Write a program to add all the items in a list."
   ]
  },
  {
   "cell_type": "code",
   "execution_count": null,
   "id": "8bb00cb6",
   "metadata": {},
   "outputs": [],
   "source": [
    "v = [1,2,3,4,5,6,7,8,9,10]"
   ]
  },
  {
   "cell_type": "code",
   "execution_count": null,
   "id": "ac1bdf78",
   "metadata": {},
   "outputs": [],
   "source": [
    "sum(v)"
   ]
  },
  {
   "cell_type": "markdown",
   "id": "cfd1e572",
   "metadata": {},
   "source": [
    "# Q.4"
   ]
  },
  {
   "cell_type": "code",
   "execution_count": null,
   "id": "5f32244c",
   "metadata": {},
   "outputs": [],
   "source": [
    "# Write a program to get the largest and smallest number in a list."
   ]
  },
  {
   "cell_type": "code",
   "execution_count": null,
   "id": "4b361f8b",
   "metadata": {},
   "outputs": [],
   "source": [
    "a = [\"12\",\"44\",\"66\"]\n",
    "print(a)"
   ]
  },
  {
   "cell_type": "code",
   "execution_count": null,
   "id": "4a0bd27a",
   "metadata": {},
   "outputs": [],
   "source": [
    "max(a)"
   ]
  },
  {
   "cell_type": "code",
   "execution_count": null,
   "id": "a73c3582",
   "metadata": {},
   "outputs": [],
   "source": [
    "min(a)"
   ]
  },
  {
   "cell_type": "markdown",
   "id": "4eb57708",
   "metadata": {},
   "source": [
    "# Q.5"
   ]
  },
  {
   "cell_type": "code",
   "execution_count": null,
   "id": "738f3350",
   "metadata": {},
   "outputs": [],
   "source": [
    "# Write a program to remove duplicates from a list."
   ]
  },
  {
   "cell_type": "code",
   "execution_count": null,
   "id": "d98dab12",
   "metadata": {},
   "outputs": [],
   "source": [
    "mylist = [\"a\", \"b\", \"b\", \"c\", \"a\"]\n",
    "mylist = set(mylist)\n",
    "print(mylist)"
   ]
  },
  {
   "cell_type": "markdown",
   "id": "145cede0",
   "metadata": {},
   "source": [
    "# Q.6"
   ]
  },
  {
   "cell_type": "code",
   "execution_count": null,
   "id": "49c1263f",
   "metadata": {},
   "outputs": [],
   "source": [
    "# Write a program that prints whether at least one member of the given two lists are same."
   ]
  },
  {
   "cell_type": "code",
   "execution_count": null,
   "id": "dc462248",
   "metadata": {},
   "outputs": [],
   "source": [
    "a = [\"ali\",\"bili\",\"hummad\"]\n",
    "b = [\"cat\",\"bili\",\"bila\"]\n"
   ]
  },
  {
   "cell_type": "code",
   "execution_count": null,
   "id": "4a6c69e4",
   "metadata": {},
   "outputs": [],
   "source": [
    "a = set(a)\n",
    "b = set(b)"
   ]
  },
  {
   "cell_type": "code",
   "execution_count": null,
   "id": "d6c91f53",
   "metadata": {},
   "outputs": [],
   "source": [
    "a.intersection(b)"
   ]
  },
  {
   "cell_type": "code",
   "execution_count": null,
   "id": "fd87fd79",
   "metadata": {},
   "outputs": [],
   "source": [
    "for item in a:\n",
    "    for thing in b:\n",
    "        if item==thing:\n",
    "            print(item)"
   ]
  },
  {
   "cell_type": "code",
   "execution_count": null,
   "id": "90da3e03",
   "metadata": {},
   "outputs": [],
   "source": [
    "a = [\"ali\",\"bili\",\"hummad\"]\n",
    "b = [\"cat\",\"bili\",\"bila\"]\n",
    "\n",
    "a[2] in b"
   ]
  },
  {
   "cell_type": "markdown",
   "id": "e5cb36cb",
   "metadata": {},
   "source": [
    "# Q.7"
   ]
  },
  {
   "cell_type": "code",
   "execution_count": null,
   "id": "095b2df2",
   "metadata": {},
   "outputs": [],
   "source": [
    "# Write a program to convert a list of characters into a string.\n",
    "\n",
    "y = [1,3,6,8]\n",
    "z = str(y)"
   ]
  },
  {
   "cell_type": "code",
   "execution_count": null,
   "id": "50f198e6",
   "metadata": {},
   "outputs": [],
   "source": [
    "z"
   ]
  },
  {
   "cell_type": "code",
   "execution_count": null,
   "id": "e0792081",
   "metadata": {},
   "outputs": [],
   "source": [
    "type(z)"
   ]
  },
  {
   "cell_type": "markdown",
   "id": "951be92d",
   "metadata": {},
   "source": [
    "# Q.8"
   ]
  },
  {
   "cell_type": "code",
   "execution_count": null,
   "id": "6bd0410c",
   "metadata": {},
   "outputs": [],
   "source": [
    "# Write a program to check whether two lists are identical."
   ]
  },
  {
   "cell_type": "code",
   "execution_count": null,
   "id": "4ea4cc35",
   "metadata": {},
   "outputs": [],
   "source": [
    "a = [1,2,3,4,5,6]\n",
    "b = [1,2,3,4,5,6]\n",
    "print(\"The first list is:\",str(a))\n",
    "print(\"The second list is :\",str(b))\n",
    "a==b"
   ]
  },
  {
   "cell_type": "code",
   "execution_count": null,
   "id": "57aeee50",
   "metadata": {},
   "outputs": [],
   "source": [
    "if a==b:\n",
    "    print(\"The list is identical\")\n",
    "else:\n",
    "    print(\"The list is not identical\")"
   ]
  },
  {
   "cell_type": "markdown",
   "id": "bf6881fd",
   "metadata": {},
   "source": [
    "# Q.9"
   ]
  },
  {
   "cell_type": "code",
   "execution_count": null,
   "id": "9d469c18",
   "metadata": {},
   "outputs": [],
   "source": [
    "# Write a program to print unique values from a list."
   ]
  },
  {
   "cell_type": "code",
   "execution_count": null,
   "id": "b7d68ced",
   "metadata": {},
   "outputs": [],
   "source": [
    "A = [1,3,4,6,8,9,2,4,5,7,1,4,6,8,9,5,3,2]"
   ]
  },
  {
   "cell_type": "code",
   "execution_count": null,
   "id": "20618b06",
   "metadata": {},
   "outputs": [],
   "source": [
    "B =set(A)"
   ]
  },
  {
   "cell_type": "code",
   "execution_count": null,
   "id": "6da212c1",
   "metadata": {},
   "outputs": [],
   "source": [
    "B"
   ]
  },
  {
   "cell_type": "code",
   "execution_count": null,
   "id": "3505d39f",
   "metadata": {},
   "outputs": [],
   "source": [
    "C =list(B)"
   ]
  },
  {
   "cell_type": "code",
   "execution_count": null,
   "id": "00d9c835",
   "metadata": {},
   "outputs": [],
   "source": [
    "C"
   ]
  },
  {
   "cell_type": "code",
   "execution_count": null,
   "id": "81a1a317",
   "metadata": {},
   "outputs": [],
   "source": [
    "type(C)"
   ]
  },
  {
   "cell_type": "markdown",
   "id": "fa2b637d",
   "metadata": {},
   "source": [
    "# Q.10"
   ]
  },
  {
   "cell_type": "code",
   "execution_count": null,
   "id": "bd03f693",
   "metadata": {},
   "outputs": [],
   "source": [
    "# Write a program to print the number of occurrences of each element in a list."
   ]
  },
  {
   "cell_type": "code",
   "execution_count": null,
   "id": "536c9d43",
   "metadata": {},
   "outputs": [],
   "source": [
    "A = [1,2,3,1,2,3,4,3,4,2,1,4,3,2,1,3,4,2]\n",
    "A.count(5)\n",
    "\n"
   ]
  },
  {
   "cell_type": "markdown",
   "id": "b19d7584",
   "metadata": {},
   "source": [
    "# Q.11"
   ]
  },
  {
   "cell_type": "code",
   "execution_count": null,
   "id": "6739bf8d",
   "metadata": {},
   "outputs": [],
   "source": [
    "A = [[1,3,5,7],[13,55,44],[12,44,22,44]]\n",
    "print(max(A,key=sum))\n",
    "\n",
    "     \n",
    "                        \n"
   ]
  },
  {
   "cell_type": "code",
   "execution_count": null,
   "id": "8eb909f2",
   "metadata": {},
   "outputs": [],
   "source": [
    "thislist = [\"apple\", \"banana\", \"cherry\"]\n",
    "thislist.insert(0, \"orange\")\n",
    "print(thislist)"
   ]
  },
  {
   "cell_type": "markdown",
   "id": "e9893e93",
   "metadata": {},
   "source": [
    "# Q.12"
   ]
  },
  {
   "cell_type": "code",
   "execution_count": null,
   "id": "bb8178ae",
   "metadata": {},
   "outputs": [],
   "source": [
    "# Write a program to insert a given string at the beginning of all the strings in a list.\n"
   ]
  },
  {
   "cell_type": "code",
   "execution_count": null,
   "id": "dbb53ca3",
   "metadata": {},
   "outputs": [],
   "source": [
    "l = [\"rr\",\"eee\",\"www\"]"
   ]
  },
  {
   "cell_type": "code",
   "execution_count": null,
   "id": "12047ee6",
   "metadata": {},
   "outputs": [],
   "source": [
    "print(['3 {0}'.format(i) for i in l])"
   ]
  },
  {
   "cell_type": "markdown",
   "id": "c7fcc941",
   "metadata": {},
   "source": [
    "# Q.13"
   ]
  },
  {
   "cell_type": "code",
   "execution_count": null,
   "id": "2eacb029",
   "metadata": {},
   "outputs": [],
   "source": [
    "# Write a program to convert a string to a list of characters."
   ]
  },
  {
   "cell_type": "code",
   "execution_count": null,
   "id": "686b23b9",
   "metadata": {},
   "outputs": [],
   "source": [
    "A = \"He is a good boy\"\n",
    "type(A)\n",
    "B = list(A)"
   ]
  },
  {
   "cell_type": "code",
   "execution_count": null,
   "id": "66abf078",
   "metadata": {},
   "outputs": [],
   "source": [
    "type(B)"
   ]
  },
  {
   "cell_type": "code",
   "execution_count": null,
   "id": "1874c146",
   "metadata": {},
   "outputs": [],
   "source": [
    "print(B)"
   ]
  },
  {
   "cell_type": "markdown",
   "id": "c56ecd1f",
   "metadata": {},
   "source": [
    "# Q.14"
   ]
  },
  {
   "cell_type": "markdown",
   "id": "2f6a2944",
   "metadata": {},
   "source": [
    "# Write a program to concatenate elements of a list with corresponding elements of another given list."
   ]
  },
  {
   "cell_type": "code",
   "execution_count": null,
   "id": "54ce08ea",
   "metadata": {},
   "outputs": [],
   "source": [
    "A = [\"A\",\"S\",\"W\"]\n",
    "B = [\"r\",\"g\",\"y\"]\n",
    "C=[]\n",
    "for i in range (0,len(A)):\n",
    "    C.append(A[i] + B[i])\n",
    "print(C)"
   ]
  },
  {
   "cell_type": "markdown",
   "id": "3367ae3e",
   "metadata": {},
   "source": [
    "# Q15: Write a program to split a list every n-th element to obtain a list of lists."
   ]
  },
  {
   "cell_type": "code",
   "execution_count": null,
   "id": "03d4c2c9",
   "metadata": {},
   "outputs": [],
   "source": [
    "a = [1,2,3,4,5,6,7]\n",
    "n = 3\n",
    "m  = [a[x:x+2] for x in range (0,len(a),n) ]\n",
    "m\n",
    "    "
   ]
  },
  {
   "cell_type": "code",
   "execution_count": null,
   "id": "dae8a63a",
   "metadata": {},
   "outputs": [],
   "source": []
  },
  {
   "cell_type": "code",
   "execution_count": null,
   "id": "aca002d2",
   "metadata": {},
   "outputs": [],
   "source": [
    "a = [1,2,3,4,5,6,7]\n",
    "n = 2\n",
    "s =[]\n",
    "for x in range(0,len(a), n):\n",
    "    s.append(a[x:x+n])\n",
    "print(s)\n"
   ]
  },
  {
   "cell_type": "markdown",
   "id": "30e76df0",
   "metadata": {},
   "source": [
    "# Q.16"
   ]
  },
  {
   "cell_type": "code",
   "execution_count": null,
   "id": "fc322ffe",
   "metadata": {},
   "outputs": [],
   "source": [
    "# Write a program to convert a list of multiple integers into one single integer.\n",
    "# Thus, the list [25,12,2] should get converted to the number 25122."
   ]
  },
  {
   "cell_type": "code",
   "execution_count": null,
   "id": "cec25c97",
   "metadata": {},
   "outputs": [],
   "source": [
    "A =  [25,12,2]\n",
    "s = \"\"\n",
    "for f in A:\n",
    "    s+= str(f)\n",
    "   \n",
    "print(s)\n",
    "d = int(s)\n"
   ]
  },
  {
   "cell_type": "markdown",
   "id": "ca68b6e9",
   "metadata": {},
   "source": [
    "# TUPPLE"
   ]
  },
  {
   "cell_type": "markdown",
   "id": "e0bcf91e",
   "metadata": {},
   "source": [
    "# Q.1"
   ]
  },
  {
   "cell_type": "markdown",
   "id": "46eded41",
   "metadata": {},
   "source": [
    "# Write a program to convert a tuple of values into a tuple of singleton tuples of values. Thus, (1,2,3) should get converted to ((1,)(2,),(3,))"
   ]
  },
  {
   "cell_type": "code",
   "execution_count": null,
   "id": "745b3577",
   "metadata": {},
   "outputs": [],
   "source": [
    "mytuple = (1,2,3)\n",
    "mytuple[0:1],mytuple[1:2],mytuple[2:3]"
   ]
  },
  {
   "cell_type": "code",
   "execution_count": null,
   "id": "4b71c4b5",
   "metadata": {},
   "outputs": [],
   "source": [
    "mytuple = (1,2,3)\n",
    "\n",
    "s = []\n",
    "for i in mytuple:\n",
    "    s.append((i,))\n",
    "s = tuple(s)\n",
    "print(s)"
   ]
  },
  {
   "cell_type": "code",
   "execution_count": null,
   "id": "3cae0d09",
   "metadata": {},
   "outputs": [],
   "source": [
    "mytuple = (1,2,3)\n",
    "w = []\n",
    "for i in mytuple:\n",
    "    w.append((i,))\n",
    "tuple(w)"
   ]
  },
  {
   "cell_type": "markdown",
   "id": "e9a490ec",
   "metadata": {},
   "source": [
    "# Q.2"
   ]
  },
  {
   "cell_type": "markdown",
   "id": "ae1af59c",
   "metadata": {},
   "source": [
    "# Write a program to count the number of elements in a list until it finds a tuple in the list"
   ]
  },
  {
   "cell_type": "code",
   "execution_count": null,
   "id": "4a37362f",
   "metadata": {},
   "outputs": [],
   "source": [
    "x = [\"string\",44,(3,4),3.2]\n",
    "n = 0\n",
    "for i in x:\n",
    "    if isinstance(i, tuple):\n",
    "        break\n",
    "    n += 1\n",
    "print(n)"
   ]
  },
  {
   "cell_type": "markdown",
   "id": "0acdddf1",
   "metadata": {},
   "source": [
    "# Q:3"
   ]
  },
  {
   "cell_type": "markdown",
   "id": "87f20d7e",
   "metadata": {},
   "source": [
    "# Write a program to add corresponding elements of two given tuples, giving rise to a new tuple."
   ]
  },
  {
   "cell_type": "code",
   "execution_count": null,
   "id": "30136088",
   "metadata": {},
   "outputs": [],
   "source": [
    "tup1 = (1,2,3,4,5)"
   ]
  },
  {
   "cell_type": "code",
   "execution_count": null,
   "id": "479f8cc9",
   "metadata": {},
   "outputs": [],
   "source": [
    "tup2 = (0,8,5,3,7)"
   ]
  },
  {
   "cell_type": "code",
   "execution_count": null,
   "id": "c56ff4e3",
   "metadata": {},
   "outputs": [],
   "source": [
    "tup3 = tuple(map(sum,zip(tup1,tup2)))"
   ]
  },
  {
   "cell_type": "code",
   "execution_count": null,
   "id": "64d4b6f7",
   "metadata": {},
   "outputs": [],
   "source": [
    "tup3"
   ]
  },
  {
   "cell_type": "markdown",
   "id": "c54019a4",
   "metadata": {},
   "source": [
    "# Q.4"
   ]
  },
  {
   "cell_type": "markdown",
   "id": "d5572959",
   "metadata": {},
   "source": [
    "# Write a program to multiply each element of a given tuple with a given integer, giving rise to a new tuple.\n"
   ]
  },
  {
   "cell_type": "code",
   "execution_count": 4,
   "id": "27f3e910",
   "metadata": {
    "scrolled": true
   },
   "outputs": [
    {
     "name": "stdout",
     "output_type": "stream",
     "text": [
      "(1, 2, 3, 4, 5, 6, 7, 8)\n"
     ]
    },
    {
     "data": {
      "text/plain": [
       "(2, 4, 6, 8, 10, 12, 14, 16)"
      ]
     },
     "execution_count": 4,
     "metadata": {},
     "output_type": "execute_result"
    }
   ],
   "source": [
    "# a = (1,2,4,5,6,78,88)\n",
    "# x = 2\n",
    "# for i in range(a[1]):\n",
    "#     y = tuple(i*x for i in a)\n",
    "    \n",
    "# print(a)\n",
    "\n",
    "tuple1 = (1,2,3,4,5,6,7,8)\n",
    "print(tuple1)\n",
    "n = 2\n",
    "newtuple = tuple(n*x for x in tuple1)\n",
    "newtuple\n",
    "    \n",
    "\n",
    "\n"
   ]
  },
  {
   "cell_type": "markdown",
   "id": "e647acfc",
   "metadata": {},
   "source": [
    "# SET"
   ]
  },
  {
   "cell_type": "markdown",
   "id": "5b33f0a6",
   "metadata": {},
   "source": [
    "# Q.1"
   ]
  },
  {
   "cell_type": "code",
   "execution_count": null,
   "id": "174bfa2c",
   "metadata": {},
   "outputs": [],
   "source": [
    "#  Add few unique numbers in a set and use the 'in' operator to search for an element."
   ]
  },
  {
   "cell_type": "code",
   "execution_count": null,
   "id": "92412a4b",
   "metadata": {},
   "outputs": [],
   "source": [
    "set1 = {1,2,3,4,5}\n",
    "2 in set1"
   ]
  },
  {
   "cell_type": "markdown",
   "id": "b864dc38",
   "metadata": {},
   "source": [
    "# Q.2"
   ]
  },
  {
   "cell_type": "code",
   "execution_count": null,
   "id": "09dc6736",
   "metadata": {},
   "outputs": [],
   "source": [
    "# Write a program to convert a list of integers into a list of unique integers using sets."
   ]
  },
  {
   "cell_type": "code",
   "execution_count": null,
   "id": "19f567e3",
   "metadata": {},
   "outputs": [],
   "source": [
    "l1 = [1,2,3,4,5,6,4,2,1,4,5,2,3,4,21,3,4,56,7,87,54,3]"
   ]
  },
  {
   "cell_type": "code",
   "execution_count": null,
   "id": "238bd3cb",
   "metadata": {},
   "outputs": [],
   "source": [
    "s = set(l1)\n",
    "print(s)"
   ]
  },
  {
   "cell_type": "code",
   "execution_count": null,
   "id": "5c39441f",
   "metadata": {},
   "outputs": [],
   "source": []
  },
  {
   "cell_type": "markdown",
   "id": "23e8efc8",
   "metadata": {},
   "source": [
    "# QUESTION:3"
   ]
  },
  {
   "cell_type": "code",
   "execution_count": null,
   "id": "28515936",
   "metadata": {},
   "outputs": [],
   "source": [
    "# Assume that we have 2 lists, each having only IP addresses as its contents.\n",
    "# Write a program to determine if the 2 lists have the same IP addresses (albeit in different positions) \n",
    "# in the most optimal manner."
   ]
  },
  {
   "cell_type": "code",
   "execution_count": null,
   "id": "12360003",
   "metadata": {},
   "outputs": [],
   "source": [
    "l1 = ['124.564.0.1','124.564.0.2',\"124.564.0.3\"]\n",
    "l2 = [\"124.564.0.3\"]\n",
    "for IP_Address in l1:\n",
    "    if IP_Address in l1:\n",
    "        print(\"Found\")\n",
    "    else:\n",
    "        print(\"NOt Found\")\n"
   ]
  },
  {
   "cell_type": "markdown",
   "id": "16ab8027",
   "metadata": {},
   "source": [
    "# Again"
   ]
  },
  {
   "cell_type": "code",
   "execution_count": null,
   "id": "b82e1305",
   "metadata": {},
   "outputs": [],
   "source": [
    "L1 = [\"192.168.1.2\",\"192.168.1.3\",\"192.168.1.3\"]\n",
    "L2 = [\"192.168.1.3\"]\n",
    "for Ip in L1:\n",
    "    if Ip in L2:\n",
    "        print(\"Found\")\n",
    "    else:\n",
    "        print(\"Not found\")"
   ]
  },
  {
   "cell_type": "markdown",
   "id": "11dc7093",
   "metadata": {},
   "source": [
    "# Dictionaries"
   ]
  },
  {
   "cell_type": "markdown",
   "id": "edd03f6e",
   "metadata": {},
   "source": [
    "# Q.1"
   ]
  },
  {
   "cell_type": "code",
   "execution_count": null,
   "id": "8f660769",
   "metadata": {},
   "outputs": [],
   "source": [
    "Roll = {'11167':50,'11127':35,'11245':46}\n",
    "print(Roll.keys())\n",
    "print(Roll.values())\n",
    "Roll_Number1 = input(\"Enter Your Roll Number : \")\n",
    "print(Roll[Roll_Number1])\n",
    "Roll_Number2 = input(\"Enter Your Roll Number : \")\n",
    "print(Roll[Roll_Number2])\n",
    "\n"
   ]
  },
  {
   "cell_type": "markdown",
   "id": "f2d2fe2e",
   "metadata": {},
   "source": [
    "# Q.2"
   ]
  },
  {
   "cell_type": "code",
   "execution_count": 2,
   "id": "a9d5bde4",
   "metadata": {},
   "outputs": [],
   "source": [
    "comm = { 'chair' : 10, 'table' : 22, 'sofa-set': 2, 'tv-unit': 0, 'fan': 10,\n",
    "        'table-lamp': 0, 'iron-box': 0, 'bed': 30 }\n",
    "\n",
    "\n",
    "price = { 'chair': 2365, 'table': 37752, 'sofa-set': 23299, 'tv-unit': 120344 ,'bed': 40226 }"
   ]
  },
  {
   "cell_type": "code",
   "execution_count": 3,
   "id": "f94cceaa",
   "metadata": {},
   "outputs": [
    {
     "name": "stdout",
     "output_type": "stream",
     "text": [
      "Plz Enter What You Need: chair\n",
      "Plz Enter The Quantity:   2\n",
      "Commoditiy Found\n",
      "In-Stock & Available\n",
      "Now Cash is:  4730\n",
      "dict_items([('chair', 8), ('table', 22), ('sofa-set', 2), ('tv-unit', 0), ('fan', 10), ('table-lamp', 0), ('iron-box', 0), ('bed', 30)])\n",
      "Plz Enter What You Need: quit\n",
      "Thank You For Shopping!\n",
      "Bill :  4730\n"
     ]
    }
   ],
   "source": [
    "cash = 0\n",
    "\n",
    "while True:\n",
    "    entered_commodity = input(\"Plz Enter What You Need: \")\n",
    "    if entered_commodity == \"quit\": \n",
    "        print(\"Thank You For Shopping!\")\n",
    "        break\n",
    "    \n",
    "    quantity = int(input(\"Plz Enter The Quantity:   \"))\n",
    "    if entered_commodity in comm.keys():\n",
    "        print(\"Commoditiy Found\")\n",
    "        if comm[entered_commodity]>0 and quantity<=comm[entered_commodity]:\n",
    "            print(\"In-Stock & Available\")\n",
    "            cash = cash + (price[entered_commodity] * quantity)\n",
    "            print(\"Now Cash is: \", cash)\n",
    "            comm[entered_commodity] = comm[entered_commodity] - quantity\n",
    "            print(comm.items())\n",
    "\n",
    "        else:\n",
    "            print(\"Sorry, Out Of Stock OR the Quantity is More than The Available Stock.\")\n",
    "        \n",
    "    else:\n",
    "        print(\"Sorry, We Do Not Have What You Want.\")\n",
    "print(\"Bill : \",cash)"
   ]
  }
 ],
 "metadata": {
  "kernelspec": {
   "display_name": "Python 3 (ipykernel)",
   "language": "python",
   "name": "python3"
  },
  "language_info": {
   "codemirror_mode": {
    "name": "ipython",
    "version": 3
   },
   "file_extension": ".py",
   "mimetype": "text/x-python",
   "name": "python",
   "nbconvert_exporter": "python",
   "pygments_lexer": "ipython3",
   "version": "3.9.7"
  }
 },
 "nbformat": 4,
 "nbformat_minor": 5
}
