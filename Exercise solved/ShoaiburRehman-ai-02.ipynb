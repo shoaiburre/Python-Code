{
 "cells": [
  {
   "cell_type": "markdown",
   "id": "9c7da80b",
   "metadata": {},
   "source": [
    "# Control Structures"
   ]
  },
  {
   "cell_type": "markdown",
   "id": "edaf82f1",
   "metadata": {},
   "source": [
    "# Q.1"
   ]
  },
  {
   "cell_type": "code",
   "execution_count": null,
   "id": "9aa02a0c",
   "metadata": {},
   "outputs": [],
   "source": [
    "# Write a program to tell if a given number is negative, zero or positive."
   ]
  },
  {
   "cell_type": "code",
   "execution_count": null,
   "id": "83f636eb",
   "metadata": {},
   "outputs": [],
   "source": [
    "A = int(input(\"Enter any Number : \"))\n",
    "if A < 0:\n",
    "    print(\"The number is negative  \")\n",
    "elif A>0:\n",
    "    print(\"The number is Positive  \")\n",
    "else:\n",
    "    print(\"The number is zero \")\n",
    "    "
   ]
  },
  {
   "cell_type": "markdown",
   "id": "68f4e447",
   "metadata": {},
   "source": [
    "# Q.2"
   ]
  },
  {
   "cell_type": "code",
   "execution_count": null,
   "id": "e0208cfb",
   "metadata": {},
   "outputs": [],
   "source": [
    "# Write a program to print whether a given number is even or odd"
   ]
  },
  {
   "cell_type": "code",
   "execution_count": null,
   "id": "06b64331",
   "metadata": {},
   "outputs": [],
   "source": [
    "I = int(input(\"Enter the numbebrn: \"))\n",
    "if I%2==0:\n",
    "    print(\"Number is Even\")\n",
    "else:\n",
    "    print(\"Number is Odd\")\n"
   ]
  },
  {
   "cell_type": "markdown",
   "id": "f234f8f3",
   "metadata": {},
   "source": [
    "# Q.3"
   ]
  },
  {
   "cell_type": "code",
   "execution_count": null,
   "id": "99373ee4",
   "metadata": {},
   "outputs": [],
   "source": [
    "# Write a program to print all the even and odd numbers (two separate sequences) up to a given number."
   ]
  },
  {
   "cell_type": "code",
   "execution_count": null,
   "id": "aeb1ae12",
   "metadata": {},
   "outputs": [],
   "source": [
    "            \n",
    "number = int(input(\"Enter the number : \"))\n",
    "Even = 0\n",
    "odd = 1\n",
    "\n",
    "while Even <= number and odd <= number:\n",
    "    if number%2==0:\n",
    "        print(Even)\n",
    "        Even += 2\n",
    "        \n",
    "        \n",
    "        \n",
    "    elif odd <= number:\n",
    "        print(odd)\n",
    "        odd += 2\n",
    "    else:\n",
    "        print(\"These number will be even or odd haha\")"
   ]
  },
  {
   "cell_type": "markdown",
   "id": "5d2ced67",
   "metadata": {},
   "source": [
    "# Q.4"
   ]
  },
  {
   "cell_type": "code",
   "execution_count": null,
   "id": "b29eb23b",
   "metadata": {},
   "outputs": [],
   "source": [
    "# Write a program to check if the given character is an alphabet, digit or a punctuation character."
   ]
  },
  {
   "cell_type": "code",
   "execution_count": null,
   "id": "39ceebb0",
   "metadata": {},
   "outputs": [],
   "source": [
    "num = input(\"Enter any charater: \")\n",
    "\n",
    "if (num >= 'a' and num <= 'z') or (num>='A' and num<='Z' ):\n",
    "    print(\"Entered character is an Alphabet\")\n",
    "    \n",
    "elif num>='0' and num<='9':\n",
    "    print(\"Character is a digit\" , num)\n",
    "else:\n",
    "    print(\"It is a special Charater: \" , num)"
   ]
  },
  {
   "cell_type": "markdown",
   "id": "3720b0d5",
   "metadata": {},
   "source": [
    "# Q.5"
   ]
  },
  {
   "cell_type": "code",
   "execution_count": null,
   "id": "1aeaea86",
   "metadata": {},
   "outputs": [],
   "source": [
    "# Write a program to check if the given alphabet is a consonant or a vowel."
   ]
  },
  {
   "cell_type": "code",
   "execution_count": null,
   "id": "39fdad3a",
   "metadata": {},
   "outputs": [],
   "source": [
    "sentence = input(\"Enter the sentence!\")\n",
    "\n",
    "for char in range(0,len(sentence)):\n",
    "    if (sentence[char] != ''):\n",
    "        if sentence[char]=='a'or sentence[char]=='e' or sentence[char]=='i' or sentence[char] == 'o' or sentence[char] == 'u' or sentence[char]=='A'or sentence[char]=='E' or sentence[char]=='I' or sentence[char] == 'O' or sentence[char] == 'U':\n",
    "            print(\"It is vovel\")\n",
    "        else:\n",
    "            print(\"It is consonent\")\n"
   ]
  },
  {
   "cell_type": "markdown",
   "id": "d5daaeb6",
   "metadata": {},
   "source": [
    "# Q.6"
   ]
  },
  {
   "cell_type": "code",
   "execution_count": null,
   "id": "411d2acf",
   "metadata": {},
   "outputs": [],
   "source": [
    "# Write a program to count the number vowels and consonants in the given input string."
   ]
  },
  {
   "cell_type": "code",
   "execution_count": null,
   "id": "636b7118",
   "metadata": {},
   "outputs": [],
   "source": [
    "sentence = input(\"Enter the sentence!\")\n",
    "string = sentence.lower()\n",
    "print(string)\n",
    "\n",
    "vowel = 0\n",
    "consonent = 0\n",
    "\n",
    "List= ['a','e','i','o','u']\n",
    "\n",
    "\n",
    "for char in string:\n",
    "    if char  in List:\n",
    "        vowel += 1    \n",
    "    else:\n",
    "        consonent += 1\n",
    "print(\"The number Vowels in given sentence is : \",vowel)\n",
    "print(\"The number consonent in given sentence is : \",consonent)"
   ]
  },
  {
   "cell_type": "markdown",
   "id": "c44b3402",
   "metadata": {},
   "source": [
    "# Other Solution"
   ]
  },
  {
   "cell_type": "code",
   "execution_count": null,
   "id": "2790c722",
   "metadata": {},
   "outputs": [],
   "source": [
    "sentence = input(\"Enter the sentence!\")\n",
    "vowel = 0\n",
    "consonent = 0\n",
    "for char in range(0,len(sentence)):\n",
    "    if (sentence[char] != ''):\n",
    "        \n",
    "        if sentence[char]=='a'or sentence[char]=='e' or sentence[char]=='i' or sentence[char] == 'o' or sentence[char] == 'u' or sentence[char]=='A'or sentence[char]=='E' or sentence[char]=='I' or sentence[char] == 'O' or sentence[char] == 'U':\n",
    "            vowel += 1\n",
    "        else:\n",
    "            consonent += 1\n",
    "\n",
    "print(\"Total number of vowels in sentence is : \",vowel)\n",
    "print(\"Total number of consonent in sentence is : \",consonent)"
   ]
  },
  {
   "cell_type": "markdown",
   "id": "19648f0a",
   "metadata": {},
   "source": [
    "# Q.7"
   ]
  },
  {
   "cell_type": "code",
   "execution_count": null,
   "id": "0c0b0e46",
   "metadata": {},
   "outputs": [],
   "source": [
    "# Write a program to check if the given number is prime or not"
   ]
  },
  {
   "cell_type": "code",
   "execution_count": null,
   "id": "35ca842c",
   "metadata": {},
   "outputs": [],
   "source": [
    "n = int(input(\"Enter the number: \"))\n",
    "s = True\n",
    "for i in range(1,n):\n",
    "    if i!=1 and i!=n and n%i==0:\n",
    "        s = False\n",
    "        print(\"Not a prime Number\")\n",
    "        break\n",
    "if s == True:\n",
    "    print(\"prime number\")"
   ]
  },
  {
   "cell_type": "markdown",
   "id": "1b0abd68",
   "metadata": {},
   "source": [
    "# Q.8"
   ]
  },
  {
   "cell_type": "code",
   "execution_count": null,
   "id": "bf0d19c9",
   "metadata": {},
   "outputs": [],
   "source": [
    "# Write a program to print all the prime numbers up to a given number"
   ]
  },
  {
   "cell_type": "code",
   "execution_count": 11,
   "id": "693e88c1",
   "metadata": {},
   "outputs": [
    {
     "name": "stdout",
     "output_type": "stream",
     "text": [
      "Enter the number3\n",
      "2\n",
      "3\n"
     ]
    }
   ],
   "source": [
    "num = int(input(\"Enter the number\"))\n",
    "\n",
    "for i in range(2,num+1):\n",
    "    for j in range(2,i):\n",
    "        if(i%j==0):\n",
    "            break\n",
    "    else:\n",
    "        print(i)"
   ]
  },
  {
   "cell_type": "markdown",
   "id": "5d84dbc2",
   "metadata": {},
   "source": [
    "# Q.9"
   ]
  },
  {
   "cell_type": "code",
   "execution_count": null,
   "id": "a5903b9e",
   "metadata": {},
   "outputs": [],
   "source": [
    "# Write a program to check if the given year is a leap year or not"
   ]
  },
  {
   "cell_type": "markdown",
   "id": "14a9db9d",
   "metadata": {},
   "source": [
    "# Using  or operator"
   ]
  },
  {
   "cell_type": "code",
   "execution_count": null,
   "id": "2afccc4d",
   "metadata": {},
   "outputs": [],
   "source": [
    "year = int(input(\"Enter the year\"))\n",
    "\n",
    "\n",
    "if year%4==0 and (year%100!=0 or year%400==0):\n",
    "    print(\"It is leap year\")\n",
    "else:\n",
    "    print(\"It is not a leap year \")\n"
   ]
  },
  {
   "cell_type": "code",
   "execution_count": null,
   "id": "2af718e0",
   "metadata": {},
   "outputs": [],
   "source": [
    "def leap_year(year):\n",
    "    \"\"\"return True if the year is leap year and False if the year is non_leap year\"\"\"\n",
    "    return year%4==0 and (year%100!=0 or year%400==0)\n",
    "\n",
    "leap_year(2011)"
   ]
  },
  {
   "cell_type": "markdown",
   "id": "321ab77b",
   "metadata": {},
   "source": [
    "# Using elif"
   ]
  },
  {
   "cell_type": "code",
   "execution_count": null,
   "id": "42364715",
   "metadata": {},
   "outputs": [],
   "source": [
    "year = int(input(\"Enter the year\"))\n",
    "if year%4==0:\n",
    "    print(\"It is leap year\")\n",
    "elif year%100==0:\n",
    "    print(\"It is leap year\")\n",
    "elif year%400==0:\n",
    "    print(\"It is a leap year\")\n",
    "else:\n",
    "    print(\"It is not a leap year \")"
   ]
  },
  {
   "cell_type": "markdown",
   "id": "26c6bf7a",
   "metadata": {},
   "source": [
    "#    Q.10"
   ]
  },
  {
   "cell_type": "code",
   "execution_count": null,
   "id": "62709d50",
   "metadata": {},
   "outputs": [],
   "source": [
    "#  Write a program to check if the given string is a palindrome."
   ]
  },
  {
   "cell_type": "code",
   "execution_count": 12,
   "id": "3f699edc",
   "metadata": {},
   "outputs": [
    {
     "name": "stdout",
     "output_type": "stream",
     "text": [
      "Enter the string! redivider\n",
      "String is Palidome\n"
     ]
    }
   ],
   "source": [
    "ui = input(\"Enter the string! \")\n",
    "\n",
    "if ui==ui[-1::-1]:\n",
    "    print(\"String is Palidome\")\n",
    "else:\n",
    "    print(\"String is not Palidome\")"
   ]
  },
  {
   "cell_type": "markdown",
   "id": "03863f64",
   "metadata": {},
   "source": [
    "# Q.11"
   ]
  },
  {
   "cell_type": "code",
   "execution_count": null,
   "id": "cf1a85d4",
   "metadata": {},
   "outputs": [],
   "source": [
    "# Write a program to print factorial of a given number."
   ]
  },
  {
   "cell_type": "markdown",
   "id": "9a42c962",
   "metadata": {},
   "source": [
    "# Defining Factorial "
   ]
  },
  {
   "cell_type": "code",
   "execution_count": 1,
   "id": "93930574",
   "metadata": {},
   "outputs": [],
   "source": [
    "def factorial(n):\n",
    "    fact = 1\n",
    "    for num in range(2, n + 1):\n",
    "        fact = fact * num\n",
    "    return(fact)"
   ]
  },
  {
   "cell_type": "code",
   "execution_count": 4,
   "id": "998c8e82",
   "metadata": {},
   "outputs": [
    {
     "data": {
      "text/plain": [
       "24"
      ]
     },
     "execution_count": 4,
     "metadata": {},
     "output_type": "execute_result"
    }
   ],
   "source": [
    "factorial(4)"
   ]
  },
  {
   "cell_type": "markdown",
   "id": "d60906d6",
   "metadata": {},
   "source": [
    "# For LOOP"
   ]
  },
  {
   "cell_type": "code",
   "execution_count": 8,
   "id": "b1a1da68",
   "metadata": {},
   "outputs": [
    {
     "name": "stdout",
     "output_type": "stream",
     "text": [
      "Enter the Number\n",
      "4\n",
      "factorial of 4 is = 24\n"
     ]
    }
   ],
   "source": [
    "print(\"Enter the Number\")\n",
    "\n",
    "number = int(input())\n",
    "factorial = 1\n",
    "\n",
    "if number < 0:\n",
    "    print(\"Error, 0 is not defined\")\n",
    "    \n",
    "elif number == 0:\n",
    "    print(\"Factorial of 0 is\",1)\n",
    "    \n",
    "else:\n",
    "    for i in range(number,0,-1):\n",
    "        factorial = factorial * i\n",
    "print('factorial7 of',number,'is =',factorial)"
   ]
  },
  {
   "cell_type": "markdown",
   "id": "408b0ba2",
   "metadata": {},
   "source": [
    "# While Loop"
   ]
  },
  {
   "cell_type": "code",
   "execution_count": 9,
   "id": "8a30c962",
   "metadata": {},
   "outputs": [
    {
     "name": "stdout",
     "output_type": "stream",
     "text": [
      "Enter the Number4\n",
      "factorial =  24\n"
     ]
    }
   ],
   "source": [
    "input1 = int(input(\"Enter the Number\"))\n",
    "\n",
    "fact = 1\n",
    "\n",
    "while input1>0:\n",
    "    fact = fact * input1\n",
    "    input1 -= 1\n",
    "print(\"factorial = \", fact)"
   ]
  },
  {
   "cell_type": "markdown",
   "id": "bd446fdc",
   "metadata": {},
   "source": [
    "# Q.12"
   ]
  },
  {
   "cell_type": "code",
   "execution_count": null,
   "id": "df021b1b",
   "metadata": {},
   "outputs": [],
   "source": [
    "#  Write a program to generate the first n terms of the Fibonacci series."
   ]
  },
  {
   "cell_type": "code",
   "execution_count": 22,
   "id": "6899f97a",
   "metadata": {},
   "outputs": [
    {
     "name": "stdout",
     "output_type": "stream",
     "text": [
      "0\n",
      "1\n",
      "1\n"
     ]
    }
   ],
   "source": [
    "def Fibonacci(n):\n",
    "    a = 0 \n",
    "    b = 1\n",
    "\n",
    "    if n == 0:\n",
    "        print(a)\n",
    "        \n",
    "    elif n < 0:\n",
    "        print(\"Not Defined\")\n",
    "           \n",
    "    else:\n",
    "        print(a)\n",
    "        print(b)\n",
    "        \n",
    "        for i in range(2,n):\n",
    "            c = a + b\n",
    "            a = b\n",
    "            b = c\n",
    "            print(c)\n",
    "\n",
    "Fibonacci(3)"
   ]
  },
  {
   "cell_type": "code",
   "execution_count": 28,
   "id": "b9da50bf",
   "metadata": {},
   "outputs": [
    {
     "name": "stdout",
     "output_type": "stream",
     "text": [
      "4\n",
      "1\n",
      "2\n"
     ]
    }
   ],
   "source": [
    "n = int(input())\n",
    "a = 0\n",
    "b = 1\n",
    "    \n",
    "for i in range(2,n):\n",
    "            c = a + b\n",
    "            a = b\n",
    "            b = c\n",
    "            print(c)"
   ]
  },
  {
   "cell_type": "markdown",
   "id": "1cbd5243",
   "metadata": {},
   "source": [
    "# Q.13"
   ]
  },
  {
   "cell_type": "code",
   "execution_count": null,
   "id": "6cd3d5d7",
   "metadata": {},
   "outputs": [],
   "source": [
    "# Write a program to print the grade for a given percentage of marks. The grade should be \n",
    "# A for marks>=80, \n",
    "# B for marks>=60, \n",
    "# C for marks>=40 and \n",
    "# D otherwise."
   ]
  },
  {
   "cell_type": "code",
   "execution_count": null,
   "id": "128fddff",
   "metadata": {},
   "outputs": [],
   "source": [
    "def Grade(Marks):\n",
    "    if Marks >= 80:\n",
    "        print(\"Your Grade is A\")\n",
    "    elif Marks >=60 and Marks < 80:\n",
    "        print(\"Your Grade is B\")\n",
    "    elif Marks >=40 and Marks < 60:\n",
    "        print(\"Your Grade is C\")\n",
    "    else:\n",
    "        print(\"Your Grade is d\")\n",
    "        \n",
    "Grade(70)"
   ]
  },
  {
   "cell_type": "markdown",
   "id": "302e2986",
   "metadata": {},
   "source": [
    "# Q.14"
   ]
  },
  {
   "cell_type": "code",
   "execution_count": null,
   "id": "ccdc3b89",
   "metadata": {},
   "outputs": [],
   "source": [
    "# Write a program to find if the given point lies on the x-axis, y-axis or on the z-axis, given it’s coordinates.\n",
    "# e.g: A point is shown like:(x-value, y-value, z-value) for example (12,56,78)"
   ]
  },
  {
   "cell_type": "code",
   "execution_count": null,
   "id": "f3e4d152",
   "metadata": {},
   "outputs": [],
   "source": [
    "point = input(\"Please ENter a Point having three axis: \")\n",
    "values = point.split(\",\")\n",
    "for axis_index in range(len(values)):\n",
    "    print(axis_index)\n",
    "    axis_value = values[axis_index]\n",
    "    print(axis_value)\n",
    "    \n",
    "    if axis_index==0:\n",
    "        print(axis_value, \" lies on x-axis\")\n",
    "    elif axis_index==1:\n",
    "        print(axis_value, \" lies on y-axis\")\n",
    "    else:\n",
    "        print(axis_value, \" lies on z-axis\")"
   ]
  },
  {
   "cell_type": "markdown",
   "id": "8786d838",
   "metadata": {},
   "source": [
    "# Q.15"
   ]
  },
  {
   "cell_type": "code",
   "execution_count": null,
   "id": "a6d2e90c",
   "metadata": {},
   "outputs": [],
   "source": [
    "#  Write a program to find the distance between the two points. User should enter the coordinates of the two points."
   ]
  },
  {
   "cell_type": "code",
   "execution_count": 14,
   "id": "0a294fb5",
   "metadata": {},
   "outputs": [],
   "source": [
    "import math\n",
    "def Distance(x1,y1,x2,y2):\n",
    "    dist = math.sqrt((x2 - x1)**2 + (y2 - y1)**2)\n",
    "    return dist\n"
   ]
  },
  {
   "cell_type": "code",
   "execution_count": 15,
   "id": "4e9bab62",
   "metadata": {},
   "outputs": [
    {
     "data": {
      "text/plain": [
       "3.1622776601683795"
      ]
     },
     "execution_count": 15,
     "metadata": {},
     "output_type": "execute_result"
    }
   ],
   "source": [
    "Distance(1,2,4,3)"
   ]
  },
  {
   "cell_type": "markdown",
   "id": "e146a741",
   "metadata": {},
   "source": [
    "# Q.16"
   ]
  },
  {
   "cell_type": "code",
   "execution_count": null,
   "id": "e6abe9bf",
   "metadata": {},
   "outputs": [],
   "source": [
    "Write a program to print if the given triangle is an equilateral triangle, isosceles triangle or scalene triangle.\n",
    "User should enter the values for the sides of the triangle."
   ]
  },
  {
   "cell_type": "code",
   "execution_count": null,
   "id": "9dde069a",
   "metadata": {},
   "outputs": [],
   "source": [
    "s1= int(input(\"\"))\n",
    "s2= int(input(\"\"))\n",
    "s3= int(input(\"\"))\n",
    "if s1 == s2 and s2 == s3 and s3 == s1:\n",
    "    print(\"Triangle is Equilateral\")\n",
    "elif s1 == s2 or s2 == s3 or s3==s1:\n",
    "    print(\"Triangle is Isosceles\")\n",
    "else:\n",
    "    prin1t(\"Triangle is Scalene\")"
   ]
  },
  {
   "cell_type": "code",
   "execution_count": null,
   "id": "2e7710e6",
   "metadata": {},
   "outputs": [],
   "source": [
    "def triangle(s1,s2,s3):\n",
    "    \n",
    "    if s1 == s2 and s2 == s3 and s3 == s1:\n",
    "        print(\"Triangle is Equilateral\")\n",
    "    elif s1 == s2 or s2 == s3 or s3==s1:\n",
    "        print(\"Triangle is Isosceles\")\n",
    "    else:\n",
    "        print(\"Triangle is Scalene\")\n",
    "        \n",
    "        "
   ]
  },
  {
   "cell_type": "code",
   "execution_count": null,
   "id": "1c59df16",
   "metadata": {},
   "outputs": [],
   "source": [
    "triangle(13,13,16)"
   ]
  },
  {
   "cell_type": "markdown",
   "id": "ff3d32c1",
   "metadata": {},
   "source": [
    "# Q.17"
   ]
  },
  {
   "cell_type": "code",
   "execution_count": null,
   "id": "006eeb66",
   "metadata": {},
   "outputs": [],
   "source": [
    "# Write a program which repeatedly reads numbers until the user enters “done”. Once “done” is entered, print out the total,\n",
    "# count, and average of the numbers. If the user enters anything other than a number, detect their mistake."
   ]
  },
  {
   "cell_type": "code",
   "execution_count": 30,
   "id": "62856b18",
   "metadata": {},
   "outputs": [
    {
     "name": "stdout",
     "output_type": "stream",
     "text": [
      "Enter a number : 12\n",
      "Enter a number : 14\n",
      "Enter a number : h\n",
      "Invailed Input\n",
      "Enter a number : done\n",
      "all done\n",
      "26.0 2 13.0\n"
     ]
    }
   ],
   "source": [
    "\n",
    "num = 0\n",
    "tot = 0.0\n",
    "\n",
    "while True:\n",
    "    number = input(\"Enter a number : \")\n",
    "    if number == 'done':\n",
    "        break\n",
    "    try :\n",
    "        num1 = float(number)\n",
    "    except:\n",
    "        print('Invailed Input')\n",
    "        continue\n",
    "    num = num+1\n",
    "    tot = tot + num1\n",
    "print ('all done')\n",
    "print (tot,num,tot/num)\n"
   ]
  },
  {
   "cell_type": "code",
   "execution_count": null,
   "id": "1e5a3f77",
   "metadata": {},
   "outputs": [],
   "source": []
  },
  {
   "cell_type": "code",
   "execution_count": null,
   "id": "71d38470",
   "metadata": {},
   "outputs": [],
   "source": []
  }
 ],
 "metadata": {
  "kernelspec": {
   "display_name": "Python 3 (ipykernel)",
   "language": "python",
   "name": "python3"
  },
  "language_info": {
   "codemirror_mode": {
    "name": "ipython",
    "version": 3
   },
   "file_extension": ".py",
   "mimetype": "text/x-python",
   "name": "python",
   "nbconvert_exporter": "python",
   "pygments_lexer": "ipython3",
   "version": "3.9.7"
  }
 },
 "nbformat": 4,
 "nbformat_minor": 5
}
