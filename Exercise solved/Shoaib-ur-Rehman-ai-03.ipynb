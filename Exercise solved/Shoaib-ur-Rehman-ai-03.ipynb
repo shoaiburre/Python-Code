{
 "cells": [
  {
   "cell_type": "markdown",
   "id": "39ad4c6a",
   "metadata": {},
   "source": [
    "# Q.1"
   ]
  },
  {
   "cell_type": "code",
   "execution_count": null,
   "id": "fed02085",
   "metadata": {},
   "outputs": [],
   "source": [
    "# Write a function in Python to calculate and return the average of a given list of\n",
    "# # integers."
   ]
  },
  {
   "cell_type": "code",
   "execution_count": null,
   "id": "8e1d40f2",
   "metadata": {},
   "outputs": [],
   "source": [
    "def avrg(n1,n2,n3,n4,n5):\n",
    "    \n",
    "    \"\"\"avrg calculate the average of the 5 given numvers\n",
    "    \n",
    "    arg: accept 5 arguments:\n",
    "    n1\n",
    "    n2 \n",
    "    n3\n",
    "    n4\n",
    "    n5\n",
    "    \n",
    "    \"\"\"\n",
    "    avrg = (n1 + n2 + n3 + n4 +n5)/5\n",
    "    return avrg\n",
    "    \n",
    "    "
   ]
  },
  {
   "cell_type": "code",
   "execution_count": null,
   "id": "d9e3e44d",
   "metadata": {},
   "outputs": [],
   "source": [
    "\n",
    "avrg(1,2,3,4,5)"
   ]
  },
  {
   "cell_type": "markdown",
   "id": "be44c669",
   "metadata": {},
   "source": [
    "# Q.2"
   ]
  },
  {
   "cell_type": "code",
   "execution_count": null,
   "id": "53804e6a",
   "metadata": {},
   "outputs": [],
   "source": [
    "# Write a function in Python called isIn() to check \n",
    "# for the existence of a substring within a string returning a Boolean value."
   ]
  },
  {
   "cell_type": "code",
   "execution_count": null,
   "id": "91bf547b",
   "metadata": {},
   "outputs": [],
   "source": [
    "def isIn(string, substring):\n",
    "    \n",
    "    \"\"\"this function is used to detect sub string in string\n",
    "    return True if it has and false if it is only a string\"\"\"\n",
    "    \"shoaiburrehman\"\n",
    "    \n",
    "    \n",
    "    for i in range(len(string)):\n",
    "        if string[i:len(substring)+i] == substring:\n",
    "            print(\"Found\")\n",
    "            return\n",
    "    return(\"Not Found\")\n",
    "        \n",
    "    \n",
    "    \n",
    "    \n",
    "    "
   ]
  },
  {
   "cell_type": "code",
   "execution_count": null,
   "id": "6d784627",
   "metadata": {},
   "outputs": [],
   "source": [
    "isIn(\"\",\"\")"
   ]
  },
  {
   "cell_type": "markdown",
   "id": "307582e4",
   "metadata": {},
   "source": [
    "# Q.3"
   ]
  },
  {
   "cell_type": "code",
   "execution_count": null,
   "id": "17c49df5",
   "metadata": {},
   "outputs": [],
   "source": [
    "# Write a function in Python to demonstrate keyword arguments."
   ]
  },
  {
   "cell_type": "code",
   "execution_count": null,
   "id": "a03528b3",
   "metadata": {},
   "outputs": [],
   "source": [
    "def arg_kwarg(*arg,**kwarg):\n",
    "    \"\"\"it demostrate that it is argument or keyword argument\"\"\"\n",
    "    \n",
    "    print('arg:',arg)\n",
    "    print('kwarg:',kwarg)\n",
    "    return"
   ]
  },
  {
   "cell_type": "code",
   "execution_count": null,
   "id": "5ee82001",
   "metadata": {},
   "outputs": [],
   "source": [
    "arg_kwarg('shoaib',clas=\"bs\")"
   ]
  },
  {
   "cell_type": "code",
   "execution_count": null,
   "id": "70f1d43f",
   "metadata": {},
   "outputs": [],
   "source": [
    "# Write a script in Python to demonstrate nested functions\n",
    "# def nested"
   ]
  },
  {
   "cell_type": "code",
   "execution_count": 5,
   "id": "1aecf54b",
   "metadata": {},
   "outputs": [],
   "source": [
    "def sum1(a,b):\n",
    "    \n",
    "    \"\"\"sum function provide of the given numbers\"\"\"\n",
    "    \n",
    "    c = a + b\n",
    "    return c\n",
    "\n",
    "    def product(a,b):\n",
    "        \n",
    "        \"\"\"product function privide product of 2 number\"\"\"\n",
    "        \n",
    "        d = a * b\n",
    "        return d\n",
    "    \n",
    "    print(product(3,5))\n",
    "print(sum1(1,2))"
   ]
  },
  {
   "cell_type": "code",
   "execution_count": 7,
   "id": "1e181eea",
   "metadata": {},
   "outputs": [
    {
     "name": "stdout",
     "output_type": "stream",
     "text": [
      "♥♥♥♥♥♥♥♥♥♥♥♥♥♥\n"
     ]
    }
   ],
   "source": [
    "print(\"♥♥♥♥♥♥♥♥♥♥♥♥♥♥\")"
   ]
  },
  {
   "cell_type": "markdown",
   "id": "e388fcd7",
   "metadata": {},
   "source": [
    "# File Handling"
   ]
  },
  {
   "cell_type": "markdown",
   "id": "c7d5e87c",
   "metadata": {},
   "source": [
    "# Q.1"
   ]
  },
  {
   "cell_type": "code",
   "execution_count": null,
   "id": "fc11ebae",
   "metadata": {},
   "outputs": [],
   "source": [
    "# Accept details of all your friends from standard input (e.g. Name, Date of\n",
    "# birth, Hobbies, occupation, residence address) and store it in a binary file\n",
    "# as individual records. Allow the user to list out all details of a friend, given\n",
    "# his/her name."
   ]
  },
  {
   "cell_type": "code",
   "execution_count": null,
   "id": "31cc668a",
   "metadata": {
    "scrolled": true
   },
   "outputs": [
    {
     "name": "stdout",
     "output_type": "stream",
     "text": [
      "Enter 1 if you want to Write Data. Enter 2 if you want to quit. Enter 3 if you want to read\n",
      "what you want to do : 3\n",
      "Enter the cnic: 17\n",
      "CNIC doesn't exist\n",
      "Enter 1 if you want to Write Data. Enter 2 if you want to quit. Enter 3 if you want to read\n"
     ]
    }
   ],
   "source": [
    "while True:\n",
    "    \n",
    "\n",
    "#file writing\n",
    "#taking input\n",
    "    \n",
    "    print(\"Enter 1 if you want to Write Data. Enter 2 if you want to quit. Enter 3 if you want to read\")\n",
    "    Question = input(\"what you want to do : \")\n",
    "    \n",
    "#data entry\n",
    "    \n",
    "    if Question == '1':\n",
    "        cnic = input(\"Entr your cnic : \")\n",
    "        name = input(\"Enter your name: \")\n",
    "        dob = input(\"Enter you Date of Birth: \")\n",
    "        hobbies = input(\"Enter you hobbies\")\n",
    "        occupation = input(\"Enter you occupation: \")\n",
    "        address = input(\"Enter your address: \")\n",
    "        \n",
    "#saving data in record\n",
    "        \n",
    "        record = {cnic:{\"name\":name,\"dob\":dob,\"hobbies\":hobbies,\"occupation\":occupation,\"address\":address}}\n",
    "        \n",
    "        f = open(\"Biodata.txt\",\"a\")\n",
    "        f.write(str(record)+\"\\n\")\n",
    "        f.close()\n",
    "        \n",
    "#if user has done his task\n",
    "        \n",
    "    elif Question == '2':\n",
    "        print(\"Thank you .\")\n",
    "        break\n",
    "        \n",
    "#     elif Question != '1' and Question != 2:\n",
    "#         print(\"Invalid Input\")\n",
    "\n",
    "\n",
    "#file reading\n",
    "    \n",
    "    elif Question == '3':\n",
    "        \n",
    "        f = open(\"Biodata.txt\",\"r\")\n",
    "        records = f.readlines()\n",
    "        f.close()\n",
    "#         print(records)\n",
    "        \n",
    "        CNIC = input(\"Enter the cnic: \")\n",
    "        for record in records:\n",
    "            record = eval(record)\n",
    "            if CNIC in record.keys():\n",
    "                data = record[CNIC]\n",
    "                print(data)\n",
    "        else:\n",
    "            print(\"CNIC doesn't exist\")\n",
    "            \n",
    "        "
   ]
  },
  {
   "cell_type": "markdown",
   "id": "b9f54bdc",
   "metadata": {},
   "source": [
    "# Q.2"
   ]
  },
  {
   "cell_type": "code",
   "execution_count": null,
   "id": "a2d6561b",
   "metadata": {},
   "outputs": [],
   "source": [
    "f = open(\"shortsummary.txt\",\"w\")\n",
    "f.write(\"\"\"       Recent Marketing graduate with 5 months of internship experience in digital\n",
    "           marketing and branding in the fashion industry. Helped launch a branded account \n",
    "           on Tik Tok for Michelle Textiles, gaining over 8,000 followers in 4 months. Skilled \n",
    "           in growing engagement and staying on top of the latest trends to improve brand growth.\"\"\")\n",
    "f.close()"
   ]
  },
  {
   "cell_type": "code",
   "execution_count": null,
   "id": "438e7faf",
   "metadata": {},
   "outputs": [],
   "source": [
    "with open(\"shortsummary.txt\",\"r\") as file:\n",
    "    lines = file.read()\n",
    "    words = lines.split(\" \")\n",
    "    unique_words = set(words)\n",
    "    \n",
    "    for uword in unique_words:\n",
    "        count=0\n",
    "        for word in words:\n",
    "            if(word==uword):\n",
    "                count=count+1\n",
    "        print(uword,':',count)\n",
    "    "
   ]
  },
  {
   "cell_type": "markdown",
   "id": "4bba41e0",
   "metadata": {},
   "source": [
    "# Q.3"
   ]
  },
  {
   "cell_type": "code",
   "execution_count": null,
   "id": "0f086fef",
   "metadata": {},
   "outputs": [],
   "source": [
    "# Write a Python script that lists out each line of a file prefixed with it’s line number."
   ]
  },
  {
   "cell_type": "code",
   "execution_count": null,
   "id": "23ce23ba",
   "metadata": {},
   "outputs": [],
   "source": [
    "with open(\"script.txt\", \"w\") as f:\n",
    "    f.write(\"\"\"Script writing (or screenwriting) is the process of writing stories in the screenplay medium.\n",
    "    Script writing is writing down the movement, actions, expression and dialogue of the characters in screenplay,\n",
    "    in screenplay format. The process of writing a novel, a poem, or essay, is entirely different than script writing.\n",
    "    In order to express yourself effectively for the screen, particular formatting methods are required. \n",
    "    Screenplay format is used to express the story visually. Scriptwriters or screenwriters write for film, television, \n",
    "    video games, and now even online web series.Script writing can be done for hire or on speculation in hopes to \n",
    "    sell their screenplay or find an agent. \"\"\")\n",
    "    "
   ]
  },
  {
   "cell_type": "code",
   "execution_count": 1,
   "id": "dd97b421",
   "metadata": {},
   "outputs": [
    {
     "name": "stdout",
     "output_type": "stream",
     "text": [
      "1  :  Script writing (or screenwriting) is the process of writing stories in the screenplay medium.\n",
      "\n",
      "2  :      Script writing is writing down the movement, actions, expression and dialogue of the characters in screenplay,\n",
      "\n",
      "3  :      in screenplay format. The process of writing a novel, a poem, or essay, is entirely different than script writing.\n",
      "\n",
      "4  :      In order to express yourself effectively for the screen, particular formatting methods are required. \n",
      "\n",
      "5  :      Screenplay format is used to express the story visually. Scriptwriters or screenwriters write for film, television, \n",
      "\n",
      "6  :      video games, and now even online web series.Script writing can be done for hire or on speculation in hopes to \n",
      "\n",
      "7  :      sell their screenplay or find an agent. \n"
     ]
    }
   ],
   "source": [
    "count = 1\n",
    "with open(\"script.txt\",\"r\")as file:\n",
    "    for line in file:\n",
    "        print(count,\" : \", line)\n",
    "        count += 1 "
   ]
  },
  {
   "cell_type": "markdown",
   "id": "467b2e16",
   "metadata": {},
   "source": [
    "# Exception Handling"
   ]
  },
  {
   "cell_type": "markdown",
   "id": "895cf464",
   "metadata": {},
   "source": [
    "# Q.1"
   ]
  },
  {
   "cell_type": "code",
   "execution_count": null,
   "id": "ad05d862",
   "metadata": {},
   "outputs": [],
   "source": [
    "# Write a Python script to demonstrate ValueError, IndexError, NameError exceptions."
   ]
  },
  {
   "cell_type": "code",
   "execution_count": null,
   "id": "9b3aa179",
   "metadata": {},
   "outputs": [],
   "source": [
    "# demonstrate ValueError"
   ]
  },
  {
   "cell_type": "code",
   "execution_count": 2,
   "id": "6b80f443",
   "metadata": {},
   "outputs": [
    {
     "name": "stdout",
     "output_type": "stream",
     "text": [
      "1.2\n",
      "x must be Integer!\n"
     ]
    }
   ],
   "source": [
    "try:\n",
    "    x = int(input())\n",
    "    print(\"You entered: \",x)\n",
    "except ValueError:\n",
    "    print(\"x must be Integer!\")"
   ]
  },
  {
   "cell_type": "code",
   "execution_count": null,
   "id": "84a312f1",
   "metadata": {},
   "outputs": [],
   "source": [
    "#NameError"
   ]
  },
  {
   "cell_type": "code",
   "execution_count": 1,
   "id": "f7424ec3",
   "metadata": {},
   "outputs": [
    {
     "name": "stdout",
     "output_type": "stream",
     "text": [
      "y\n",
      "Variable Not Defined\n"
     ]
    }
   ],
   "source": [
    "try:\n",
    "    i = input()\n",
    "    print(\"You Entered\",y)\n",
    "except NameError :\n",
    "    print(\"Variable Not Defined\")\n",
    "    "
   ]
  },
  {
   "cell_type": "code",
   "execution_count": null,
   "id": "252b79e3",
   "metadata": {},
   "outputs": [],
   "source": [
    "# IndexError"
   ]
  },
  {
   "cell_type": "code",
   "execution_count": 12,
   "id": "1b31d424",
   "metadata": {},
   "outputs": [
    {
     "name": "stdout",
     "output_type": "stream",
     "text": [
      "Enter the index: 5\n",
      "Index doesn't exist\n"
     ]
    }
   ],
   "source": [
    "try:\n",
    "    Name = [\"shoaib\",\"Rashid\",\"Talha\",\"Ahmed\"]\n",
    "    i = int(input(\"Enter the index: \"))\n",
    "    a = Name[i]\n",
    "    print(a)\n",
    "except IndexError:\n",
    "    print(\"Index doesn't exist\")"
   ]
  }
 ],
 "metadata": {
  "kernelspec": {
   "display_name": "Python 3 (ipykernel)",
   "language": "python",
   "name": "python3"
  },
  "language_info": {
   "codemirror_mode": {
    "name": "ipython",
    "version": 3
   },
   "file_extension": ".py",
   "mimetype": "text/x-python",
   "name": "python",
   "nbconvert_exporter": "python",
   "pygments_lexer": "ipython3",
   "version": "3.9.7"
  }
 },
 "nbformat": 4,
 "nbformat_minor": 5
}
